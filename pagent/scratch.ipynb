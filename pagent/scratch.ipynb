{
 "cells": [
  {
   "cell_type": "code",
   "execution_count": 3,
   "metadata": {},
   "outputs": [],
   "source": [
    "import matplotlib.pyplot as pp\n",
    "import numpy as np"
   ]
  },
  {
   "cell_type": "code",
   "execution_count": 8,
   "metadata": {},
   "outputs": [],
   "source": [
    "x = np.linspace(-5, 5, 100)\n",
    "y = np.sin(x)"
   ]
  },
  {
   "cell_type": "code",
   "execution_count": 9,
   "metadata": {},
   "outputs": [
    {
     "data": {
      "text/plain": "[<matplotlib.lines.Line2D at 0x7f47f5c3fe80>]"
     },
     "execution_count": 9,
     "metadata": {},
     "output_type": "execute_result"
    },
    {
     "data": {
      "image/png": "[encoded data removed]",
      "image/svg+xml": "<?xml version=\"1.0\" encoding=\"utf-8\" standalone=\"no\"?>\n<!DOCTYPE svg PUBLIC \"-//W3C//DTD SVG 1.1//EN\"\n  \"http://www.w3.org/Graphics/SVG/1.1/DTD/svg11.dtd\">\n<!-- Created with matplotlib (https://matplotlib.org/) -->\n<svg height=\"248.518125pt\" version=\"1.1\" viewBox=\"0 0 386.845312 248.518125\" width=\"386.845312pt\" xmlns=\"http://www.w3.org/2000/svg\" xmlns:xlink=\"http://www.w3.org/1999/xlink\">\n <defs>\n  <style type=\"text/css\">\n*{stroke-linecap:butt;stroke-linejoin:round;}\n  </style>\n </defs>\n <g id=\"figure_1\">\n  <g id=\"patch_1\">\n   <path d=\"M 0 248.518125 \nL 386.845312 248.518125 \nL 386.845312 0 \nL 0 0 \nz\n\" style=\"fill:none;\"/>\n  </g>\n  <g id=\"axes_1\">\n   <g id=\"patch_2\">\n    <path d=\"M 44.845313 224.64 \nL 379.645313 224.64 \nL 379.645313 7.2 \nL 44.845313 7.2 \nz\n\" style=\"fill:#ffffff;\"/>\n   </g>\n   <g id=\"matplotlib.axis_1\">\n    <g id=\"xtick_1\">\n     <g id=\"line2d_1\">\n      <defs>\n       <path d=\"M 0 0 \nL 0 3.5 \n\" id=\"mc87272d848\" style=\"stroke:#000000;stroke-width:0.8;\"/>\n      </defs>\n      <g>\n       <use style=\"stroke:#000000;stroke-width:0.8;\" x=\"90.499858\" xlink:href=\"#mc87272d848\" y=\"224.64\"/>\n      </g>\n     </g>\n     <g id=\"text_1\">\n      <!-- −4 -->\n      <defs>\n       <path d=\"M 10.59375 35.5 \nL 73.1875 35.5 \nL 73.1875 27.203125 \nL 10.59375 27.203125 \nz\n\" id=\"DejaVuSans-8722\"/>\n       <path d=\"M 37.796875 64.3125 \nL 12.890625 25.390625 \nL 37.796875 25.390625 \nz\nM 35.203125 72.90625 \nL 47.609375 72.90625 \nL 47.609375 25.390625 \nL 58.015625 25.390625 \nL 58.015625 17.1875 \nL 47.609375 17.1875 \nL 47.609375 0 \nL 37.796875 0 \nL 37.796875 17.1875 \nL 4.890625 17.1875 \nL 4.890625 26.703125 \nz\n\" id=\"DejaVuSans-52\"/>\n      </defs>\n      <g transform=\"translate(83.128764 239.238437)scale(0.1 -0.1)\">\n       <use xlink:href=\"#DejaVuSans-8722\"/>\n       <use x=\"83.789062\" xlink:href=\"#DejaVuSans-52\"/>\n      </g>\n     </g>\n    </g>\n    <g id=\"xtick_2\">\n     <g id=\"line2d_2\">\n      <g>\n       <use style=\"stroke:#000000;stroke-width:0.8;\" x=\"151.372585\" xlink:href=\"#mc87272d848\" y=\"224.64\"/>\n      </g>\n     </g>\n     <g id=\"text_2\">\n      <!-- −2 -->\n      <defs>\n       <path d=\"M 19.1875 8.296875 \nL 53.609375 8.296875 \nL 53.609375 0 \nL 7.328125 0 \nL 7.328125 8.296875 \nQ 12.9375 14.109375 22.625 23.890625 \nQ 32.328125 33.6875 34.8125 36.53125 \nQ 39.546875 41.84375 41.421875 45.53125 \nQ 43.3125 49.21875 43.3125 52.78125 \nQ 43.3125 58.59375 39.234375 62.25 \nQ 35.15625 65.921875 28.609375 65.921875 \nQ 23.96875 65.921875 18.8125 64.3125 \nQ 13.671875 62.703125 7.8125 59.421875 \nL 7.8125 69.390625 \nQ 13.765625 71.78125 18.9375 73 \nQ 24.125 74.21875 28.421875 74.21875 \nQ 39.75 74.21875 46.484375 68.546875 \nQ 53.21875 62.890625 53.21875 53.421875 \nQ 53.21875 48.921875 51.53125 44.890625 \nQ 49.859375 40.875 45.40625 35.40625 \nQ 44.1875 33.984375 37.640625 27.21875 \nQ 31.109375 20.453125 19.1875 8.296875 \nz\n\" id=\"DejaVuSans-50\"/>\n      </defs>\n      <g transform=\"translate(144.001491 239.238437)scale(0.1 -0.1)\">\n       <use xlink:href=\"#DejaVuSans-8722\"/>\n       <use x=\"83.789062\" xlink:href=\"#DejaVuSans-50\"/>\n      </g>\n     </g>\n    </g>\n    <g id=\"xtick_3\">\n     <g id=\"line2d_3\">\n      <g>\n       <use style=\"stroke:#000000;stroke-width:0.8;\" x=\"212.245313\" xlink:href=\"#mc87272d848\" y=\"224.64\"/>\n      </g>\n     </g>\n     <g id=\"text_3\">\n      <!-- 0 -->\n      <defs>\n       <path d=\"M 31.78125 66.40625 \nQ 24.171875 66.40625 20.328125 58.90625 \nQ 16.5 51.421875 16.5 36.375 \nQ 16.5 21.390625 20.328125 13.890625 \nQ 24.171875 6.390625 31.78125 6.390625 \nQ 39.453125 6.390625 43.28125 13.890625 \nQ 47.125 21.390625 47.125 36.375 \nQ 47.125 51.421875 43.28125 58.90625 \nQ 39.453125 66.40625 31.78125 66.40625 \nz\nM 31.78125 74.21875 \nQ 44.046875 74.21875 50.515625 64.515625 \nQ 56.984375 54.828125 56.984375 36.375 \nQ 56.984375 17.96875 50.515625 8.265625 \nQ 44.046875 -1.421875 31.78125 -1.421875 \nQ 19.53125 -1.421875 13.0625 8.265625 \nQ 6.59375 17.96875 6.59375 36.375 \nQ 6.59375 54.828125 13.0625 64.515625 \nQ 19.53125 74.21875 31.78125 74.21875 \nz\n\" id=\"DejaVuSans-48\"/>\n      </defs>\n      <g transform=\"translate(209.064063 239.238437)scale(0.1 -0.1)\">\n       <use xlink:href=\"#DejaVuSans-48\"/>\n      </g>\n     </g>\n    </g>\n    <g id=\"xtick_4\">\n     <g id=\"line2d_4\">\n      <g>\n       <use style=\"stroke:#000000;stroke-width:0.8;\" x=\"273.11804\" xlink:href=\"#mc87272d848\" y=\"224.64\"/>\n      </g>\n     </g>\n     <g id=\"text_4\">\n      <!-- 2 -->\n      <g transform=\"translate(269.93679 239.238437)scale(0.1 -0.1)\">\n       <use xlink:href=\"#DejaVuSans-50\"/>\n      </g>\n     </g>\n    </g>\n    <g id=\"xtick_5\">\n     <g id=\"line2d_5\">\n      <g>\n       <use style=\"stroke:#000000;stroke-width:0.8;\" x=\"333.990767\" xlink:href=\"#mc87272d848\" y=\"224.64\"/>\n      </g>\n     </g>\n     <g id=\"text_5\">\n      <!-- 4 -->\n      <g transform=\"translate(330.809517 239.238437)scale(0.1 -0.1)\">\n       <use xlink:href=\"#DejaVuSans-52\"/>\n      </g>\n     </g>\n    </g>\n   </g>\n   <g id=\"matplotlib.axis_2\">\n    <g id=\"ytick_1\">\n     <g id=\"line2d_6\">\n      <defs>\n       <path d=\"M 0 0 \nL -3.5 0 \n\" id=\"mf73165ddbe\" style=\"stroke:#000000;stroke-width:0.8;\"/>\n      </defs>\n      <g>\n       <use style=\"stroke:#000000;stroke-width:0.8;\" x=\"44.845313\" xlink:href=\"#mf73165ddbe\" y=\"214.757669\"/>\n      </g>\n     </g>\n     <g id=\"text_6\">\n      <!-- −1.00 -->\n      <defs>\n       <path d=\"M 12.40625 8.296875 \nL 28.515625 8.296875 \nL 28.515625 63.921875 \nL 10.984375 60.40625 \nL 10.984375 69.390625 \nL 28.421875 72.90625 \nL 38.28125 72.90625 \nL 38.28125 8.296875 \nL 54.390625 8.296875 \nL 54.390625 0 \nL 12.40625 0 \nz\n\" id=\"DejaVuSans-49\"/>\n       <path d=\"M 10.6875 12.40625 \nL 21 12.40625 \nL 21 0 \nL 10.6875 0 \nz\n\" id=\"DejaVuSans-46\"/>\n      </defs>\n      <g transform=\"translate(7.2 218.556888)scale(0.1 -0.1)\">\n       <use xlink:href=\"#DejaVuSans-8722\"/>\n       <use x=\"83.789062\" xlink:href=\"#DejaVuSans-49\"/>\n       <use x=\"147.412109\" xlink:href=\"#DejaVuSans-46\"/>\n       <use x=\"179.199219\" xlink:href=\"#DejaVuSans-48\"/>\n       <use x=\"242.822266\" xlink:href=\"#DejaVuSans-48\"/>\n      </g>\n     </g>\n    </g>\n    <g id=\"ytick_2\">\n     <g id=\"line2d_7\">\n      <g>\n       <use style=\"stroke:#000000;stroke-width:0.8;\" x=\"44.845313\" xlink:href=\"#mf73165ddbe\" y=\"190.048252\"/>\n      </g>\n     </g>\n     <g id=\"text_7\">\n      <!-- −0.75 -->\n      <defs>\n       <path d=\"M 8.203125 72.90625 \nL 55.078125 72.90625 \nL 55.078125 68.703125 \nL 28.609375 0 \nL 18.3125 0 \nL 43.21875 64.59375 \nL 8.203125 64.59375 \nz\n\" id=\"DejaVuSans-55\"/>\n       <path d=\"M 10.796875 72.90625 \nL 49.515625 72.90625 \nL 49.515625 64.59375 \nL 19.828125 64.59375 \nL 19.828125 46.734375 \nQ 21.96875 47.46875 24.109375 47.828125 \nQ 26.265625 48.1875 28.421875 48.1875 \nQ 40.625 48.1875 47.75 41.5 \nQ 54.890625 34.8125 54.890625 23.390625 \nQ 54.890625 11.625 47.5625 5.09375 \nQ 40.234375 -1.421875 26.90625 -1.421875 \nQ 22.3125 -1.421875 17.546875 -0.640625 \nQ 12.796875 0.140625 7.71875 1.703125 \nL 7.71875 11.625 \nQ 12.109375 9.234375 16.796875 8.0625 \nQ 21.484375 6.890625 26.703125 6.890625 \nQ 35.15625 6.890625 40.078125 11.328125 \nQ 45.015625 15.765625 45.015625 23.390625 \nQ 45.015625 31 40.078125 35.4375 \nQ 35.15625 39.890625 26.703125 39.890625 \nQ 22.75 39.890625 18.8125 39.015625 \nQ 14.890625 38.140625 10.796875 36.28125 \nz\n\" id=\"DejaVuSans-53\"/>\n      </defs>\n      <g transform=\"translate(7.2 193.847471)scale(0.1 -0.1)\">\n       <use xlink:href=\"#DejaVuSans-8722\"/>\n       <use x=\"83.789062\" xlink:href=\"#DejaVuSans-48\"/>\n       <use x=\"147.412109\" xlink:href=\"#DejaVuSans-46\"/>\n       <use x=\"179.199219\" xlink:href=\"#DejaVuSans-55\"/>\n       <use x=\"242.822266\" xlink:href=\"#DejaVuSans-53\"/>\n      </g>\n     </g>\n    </g>\n    <g id=\"ytick_3\">\n     <g id=\"line2d_8\">\n      <g>\n       <use style=\"stroke:#000000;stroke-width:0.8;\" x=\"44.845313\" xlink:href=\"#mf73165ddbe\" y=\"165.338835\"/>\n      </g>\n     </g>\n     <g id=\"text_8\">\n      <!-- −0.50 -->\n      <g transform=\"translate(7.2 169.138053)scale(0.1 -0.1)\">\n       <use xlink:href=\"#DejaVuSans-8722\"/>\n       <use x=\"83.789062\" xlink:href=\"#DejaVuSans-48\"/>\n       <use x=\"147.412109\" xlink:href=\"#DejaVuSans-46\"/>\n       <use x=\"179.199219\" xlink:href=\"#DejaVuSans-53\"/>\n       <use x=\"242.822266\" xlink:href=\"#DejaVuSans-48\"/>\n      </g>\n     </g>\n    </g>\n    <g id=\"ytick_4\">\n     <g id=\"line2d_9\">\n      <g>\n       <use style=\"stroke:#000000;stroke-width:0.8;\" x=\"44.845313\" xlink:href=\"#mf73165ddbe\" y=\"140.629417\"/>\n      </g>\n     </g>\n     <g id=\"text_9\">\n      <!-- −0.25 -->\n      <g transform=\"translate(7.2 144.428636)scale(0.1 -0.1)\">\n       <use xlink:href=\"#DejaVuSans-8722\"/>\n       <use x=\"83.789062\" xlink:href=\"#DejaVuSans-48\"/>\n       <use x=\"147.412109\" xlink:href=\"#DejaVuSans-46\"/>\n       <use x=\"179.199219\" xlink:href=\"#DejaVuSans-50\"/>\n       <use x=\"242.822266\" xlink:href=\"#DejaVuSans-53\"/>\n      </g>\n     </g>\n    </g>\n    <g id=\"ytick_5\">\n     <g id=\"line2d_10\">\n      <g>\n       <use style=\"stroke:#000000;stroke-width:0.8;\" x=\"44.845313\" xlink:href=\"#mf73165ddbe\" y=\"115.92\"/>\n      </g>\n     </g>\n     <g id=\"text_10\">\n      <!-- 0.00 -->\n      <g transform=\"translate(15.579688 119.719219)scale(0.1 -0.1)\">\n       <use xlink:href=\"#DejaVuSans-48\"/>\n       <use x=\"63.623047\" xlink:href=\"#DejaVuSans-46\"/>\n       <use x=\"95.410156\" xlink:href=\"#DejaVuSans-48\"/>\n       <use x=\"159.033203\" xlink:href=\"#DejaVuSans-48\"/>\n      </g>\n     </g>\n    </g>\n    <g id=\"ytick_6\">\n     <g id=\"line2d_11\">\n      <g>\n       <use style=\"stroke:#000000;stroke-width:0.8;\" x=\"44.845313\" xlink:href=\"#mf73165ddbe\" y=\"91.210583\"/>\n      </g>\n     </g>\n     <g id=\"text_11\">\n      <!-- 0.25 -->\n      <g transform=\"translate(15.579688 95.009801)scale(0.1 -0.1)\">\n       <use xlink:href=\"#DejaVuSans-48\"/>\n       <use x=\"63.623047\" xlink:href=\"#DejaVuSans-46\"/>\n       <use x=\"95.410156\" xlink:href=\"#DejaVuSans-50\"/>\n       <use x=\"159.033203\" xlink:href=\"#DejaVuSans-53\"/>\n      </g>\n     </g>\n    </g>\n    <g id=\"ytick_7\">\n     <g id=\"line2d_12\">\n      <g>\n       <use style=\"stroke:#000000;stroke-width:0.8;\" x=\"44.845313\" xlink:href=\"#mf73165ddbe\" y=\"66.501165\"/>\n      </g>\n     </g>\n     <g id=\"text_12\">\n      <!-- 0.50 -->\n      <g transform=\"translate(15.579688 70.300384)scale(0.1 -0.1)\">\n       <use xlink:href=\"#DejaVuSans-48\"/>\n       <use x=\"63.623047\" xlink:href=\"#DejaVuSans-46\"/>\n       <use x=\"95.410156\" xlink:href=\"#DejaVuSans-53\"/>\n       <use x=\"159.033203\" xlink:href=\"#DejaVuSans-48\"/>\n      </g>\n     </g>\n    </g>\n    <g id=\"ytick_8\">\n     <g id=\"line2d_13\">\n      <g>\n       <use style=\"stroke:#000000;stroke-width:0.8;\" x=\"44.845313\" xlink:href=\"#mf73165ddbe\" y=\"41.791748\"/>\n      </g>\n     </g>\n     <g id=\"text_13\">\n      <!-- 0.75 -->\n      <g transform=\"translate(15.579688 45.590967)scale(0.1 -0.1)\">\n       <use xlink:href=\"#DejaVuSans-48\"/>\n       <use x=\"63.623047\" xlink:href=\"#DejaVuSans-46\"/>\n       <use x=\"95.410156\" xlink:href=\"#DejaVuSans-55\"/>\n       <use x=\"159.033203\" xlink:href=\"#DejaVuSans-53\"/>\n      </g>\n     </g>\n    </g>\n    <g id=\"ytick_9\">\n     <g id=\"line2d_14\">\n      <g>\n       <use style=\"stroke:#000000;stroke-width:0.8;\" x=\"44.845313\" xlink:href=\"#mf73165ddbe\" y=\"17.082331\"/>\n      </g>\n     </g>\n     <g id=\"text_14\">\n      <!-- 1.00 -->\n      <g transform=\"translate(15.579688 20.88155)scale(0.1 -0.1)\">\n       <use xlink:href=\"#DejaVuSans-49\"/>\n       <use x=\"63.623047\" xlink:href=\"#DejaVuSans-46\"/>\n       <use x=\"95.410156\" xlink:href=\"#DejaVuSans-48\"/>\n       <use x=\"159.033203\" xlink:href=\"#DejaVuSans-48\"/>\n      </g>\n     </g>\n    </g>\n   </g>\n   <g id=\"line2d_15\">\n    <path clip-path=\"url(#pceeab5baaa)\" d=\"M 60.063494 21.14216 \nL 63.137874 18.798103 \nL 66.212255 17.444142 \nL 69.286635 17.09408 \nL 72.361015 17.751486 \nL 75.435395 19.409659 \nL 78.509775 22.051693 \nL 81.584155 25.650655 \nL 84.658536 30.169856 \nL 87.732916 35.563226 \nL 90.807296 41.775782 \nL 93.881676 48.744192 \nL 96.956056 56.397416 \nL 100.030436 64.657436 \nL 103.104817 73.440046 \nL 106.179197 82.655711 \nL 109.253577 92.210485 \nL 112.327957 102.006963 \nL 115.402337 111.945275 \nL 118.476717 121.924107 \nL 121.551098 131.84173 \nL 124.625478 141.597042 \nL 127.699858 151.090593 \nL 130.774238 160.225602 \nL 133.848618 168.908943 \nL 136.922998 177.052095 \nL 139.997379 184.572044 \nL 143.071759 191.392129 \nL 146.146139 197.442823 \nL 149.220519 202.662444 \nL 152.294899 206.99778 \nL 155.369279 210.404636 \nL 158.44366 212.84828 \nL 161.51804 214.303802 \nL 164.59242 214.756364 \nL 167.6668 214.201351 \nL 170.74118 212.644421 \nL 173.81556 210.101448 \nL 176.889941 206.598354 \nL 179.964321 202.170851 \nL 183.038701 196.864075 \nL 186.113081 190.732126 \nL 189.187461 183.837515 \nL 192.261841 176.250527 \nL 195.336222 168.048507 \nL 198.410602 159.315071 \nL 201.484982 150.139249 \nL 204.559362 140.614583 \nL 207.633742 130.838172 \nL 210.708122 120.90968 \nL 213.782503 110.93032 \nL 216.856883 101.001828 \nL 219.931263 91.225417 \nL 223.005643 81.700751 \nL 226.080023 72.524929 \nL 229.154403 63.791493 \nL 232.228784 55.589473 \nL 235.303164 48.002485 \nL 238.377544 41.107874 \nL 241.451924 34.975925 \nL 244.526304 29.669149 \nL 247.600684 25.241646 \nL 250.675065 21.738552 \nL 253.749445 19.195579 \nL 256.823825 17.638649 \nL 259.898205 17.083636 \nL 262.972585 17.536198 \nL 266.046965 18.99172 \nL 269.121346 21.435364 \nL 272.195726 24.84222 \nL 275.270106 29.177556 \nL 278.344486 34.397177 \nL 281.418866 40.447871 \nL 284.493246 47.267956 \nL 287.567627 54.787905 \nL 290.642007 62.931057 \nL 293.716387 71.614398 \nL 296.790767 80.749407 \nL 299.865147 90.242958 \nL 302.939527 99.99827 \nL 306.013908 109.915893 \nL 309.088288 119.894725 \nL 312.162668 129.833037 \nL 315.237048 139.629515 \nL 318.311428 149.184289 \nL 321.385808 158.399954 \nL 324.460189 167.182564 \nL 327.534569 175.442584 \nL 330.608949 183.095808 \nL 333.683329 190.064218 \nL 336.757709 196.276774 \nL 339.832089 201.670144 \nL 342.90647 206.189345 \nL 345.98085 209.788307 \nL 349.05523 212.430341 \nL 352.12961 214.088514 \nL 355.20399 214.74592 \nL 358.27837 214.395858 \nL 361.352751 213.041897 \nL 364.427131 210.69784 \n\" style=\"fill:none;stroke:#1f77b4;stroke-linecap:square;stroke-width:1.5;\"/>\n   </g>\n   <g id=\"patch_3\">\n    <path d=\"M 44.845313 224.64 \nL 44.845313 7.2 \n\" style=\"fill:none;stroke:#000000;stroke-linecap:square;stroke-linejoin:miter;stroke-width:0.8;\"/>\n   </g>\n   <g id=\"patch_4\">\n    <path d=\"M 379.645313 224.64 \nL 379.645313 7.2 \n\" style=\"fill:none;stroke:#000000;stroke-linecap:square;stroke-linejoin:miter;stroke-width:0.8;\"/>\n   </g>\n   <g id=\"patch_5\">\n    <path d=\"M 44.845313 224.64 \nL 379.645313 224.64 \n\" style=\"fill:none;stroke:#000000;stroke-linecap:square;stroke-linejoin:miter;stroke-width:0.8;\"/>\n   </g>\n   <g id=\"patch_6\">\n    <path d=\"M 44.845313 7.2 \nL 379.645313 7.2 \n\" style=\"fill:none;stroke:#000000;stroke-linecap:square;stroke-linejoin:miter;stroke-width:0.8;\"/>\n   </g>\n  </g>\n </g>\n <defs>\n  <clipPath id=\"pceeab5baaa\">\n   <rect height=\"217.44\" width=\"334.8\" x=\"44.845313\" y=\"7.2\"/>\n  </clipPath>\n </defs>\n</svg>\n",
      "text/plain": "<Figure size 432x288 with 1 Axes>"
     },
     "metadata": {
      "needs_background": "light"
     },
     "output_type": "display_data"
    }
   ],
   "source": [
    "pp.plot(x, y)"
   ]
  },
  {
   "cell_type": "code",
   "execution_count": 1,
   "metadata": {},
   "outputs": [],
   "source": [
    "import funkybob"
   ]
  },
  {
   "cell_type": "code",
   "execution_count": 2,
   "metadata": {},
   "outputs": [],
   "source": [
    "namer = funkybob.RandomNameGenerator()\n",
    "it = iter(namer)"
   ]
  },
  {
   "cell_type": "code",
   "execution_count": 5,
   "metadata": {},
   "outputs": [
    {
     "data": {
      "text/plain": "'elegant_borg'"
     },
     "execution_count": 5,
     "metadata": {},
     "output_type": "execute_result"
    }
   ],
   "source": [
    "next(it)"
   ]
  },
  {
   "cell_type": "code",
   "execution_count": 1,
   "metadata": {},
   "outputs": [
    {
     "output_type": "stream",
     "name": "stdout",
     "text": "0 :  determined_jackson ccf97b16-9d6a-44a5-ba8c-b27d8e051a20\n1 :  eager_dijkstra 1d62c205-b5c8-4cdb-831c-c2b986ac291a\n2 :  musing_euclid 5e359829-de40-47da-a2c9-856dc53192ed\n3 :  inspiring_khorana b7cfeea1-183b-4c2a-8582-3ed5319f22f2\n4 :  competent_albattani 438e02bf-1697-4dbe-aaef-db18f7647ae8\n5 :  boring_benz 9f735489-ae08-4a9b-b93a-5c834308eadb\n6 :  tender_feynman 1b9c3dfa-75dc-4d63-8e08-752254f29c5b\n7 :  quizzical_panini ae2dda7a-eece-4214-81bd-34aaeb840501\n8 :  gracious_lovelace 2ff7f080-83db-4ead-a986-582fd0a8c34d\n9 :  frosty_chebyshev b667a21a-126d-4b4b-882f-5e4311adf031\n10 :  cranky_yalow 397fcc9a-3be9-4b2d-9862-17a4057c1f27\n11 :  nifty_lamarr 4bef141a-ce44-4cff-9bb3-439de69620fe\n12 :  youthful_kowalevski c0bdae18-c048-4000-b135-88e34feebd6c\n13 :  quizzical_carson 1b535cc3-13c2-4992-a981-e16348571d73\n14 :  vigorous_tesla 9cfc9a58-153a-4755-aabc-41cb804c5917\n15 :  affectionate_keldysh 316d6ac9-caff-407d-8812-1e5af4512330\n16 :  frosty_austin 38ef343a-407d-4764-8325-603b65dae827\n17 :  inspiring_wiles 1776b9c2-b319-4174-ad91-65cb5d7c91ec\n18 :  happy_chandrasekhar bfbb26e7-d3bf-4d15-be58-b8f2c4ca9c60\n19 :  stupefied_lumiere 27186b18-6e64-45a4-8344-17d38f940b75\n20 :  competent_colden 2f54076f-3bf4-447f-9adc-9a92b0f2de38\n21 :  ecstatic_gates 070a4014-c7db-47fc-99c6-792ee03b41a1\n22 :  friendly_vaughan 237323ec-0ce7-44b5-9ca9-8b8fae40a25c\n23 :  goofy_khorana 8acf2e26-e66a-411c-904d-820f54b77f24\n24 :  xenodochial_mcclintock f31c3cf0-df80-4f30-8b23-cfb24cab74c7\n25 :  jolly_knuth 3a62a3f0-64f9-431d-ac66-d519a7ea9c7f\n26 :  elated_wiles 749b013c-4f22-49ec-b56e-40e54382af90\n27 :  admiring_goldberg d4e28d68-891f-4101-b2c4-b04fe86f13a6\n28 :  eloquent_lovelace 70a6d839-a3eb-4a2f-befc-b3d305dc388b\n29 :  fervent_lichterman d676b021-3478-4af7-887d-f7dfad324125\n30 :  kind_curran ef1a9bb2-eb6d-4ce3-bb58-ade76f685c1d\n31 :  xenodochial_albattani 708cb632-2360-4585-bc5f-235e5eb90400\n32 :  dreamy_hawking 05ac7ab0-df02-4318-af4a-e658be52af2b\n33 :  vigorous_keldysh afbfdfc8-8444-46d8-8956-853dedd26dde\n34 :  serene_blackwell f7401970-42d6-4b17-8b12-0fa968d20424\n35 :  keen_chandrasekhar 90c5358b-16bd-4f48-b7c4-9678a98fd45b\n36 :  sharp_villani f35aa432-f99e-4a48-a82e-1ab4617f0726\n37 :  thirsty_kilby dd50fbb3-eb2f-42e6-a70e-21f0aa7a4ca3\n38 :  youthful_northcutt d5941a7a-4103-4237-80df-8a360b86b94e\n39 :  reverent_goldstine 6d1dbcca-d289-49f2-be36-f16a30debd4f\n40 :  tender_tereshkova 86a29729-b21d-4ba3-8b56-9f1565e29212\n41 :  vigilant_poitras cff0744a-852b-4d6e-91bd-08d72c29e4b5\n42 :  serene_sammet eca27ac5-678c-4aac-947c-e31b3dd6b63d\n43 :  hungry_spence db576132-868f-46f2-828b-11f9130ed252\n44 :  hardcore_hawking 72890e2e-df90-4feb-ba91-f57f35b28387\n45 :  frosty_mayer 135933c6-4489-4686-8cdc-44ab6df205e2\n46 :  gifted_gates 06850b91-8b60-45df-9aa2-216a1daa12c7\n47 :  stoic_kilby 70a84a10-4459-4261-9d8c-566a786803cf\n48 :  vibrant_jones 257f36a1-1e36-4bed-b14f-b98452bfae95\n49 :  elastic_bhaskara 6121b47b-b179-4890-9d75-815b2d7b1e96\n50 :  inspiring_elion c53065f6-6793-4a34-a390-261e50e1ee03\n51 :  eloquent_panini 52bfdfa5-3d38-4ed9-8be3-d652db9bf2bd\n52 :  elated_almeida 720ae6de-9490-453f-a314-d634296ad23d\n53 :  wizardly_dubinsky 02e63654-fb01-4796-aaf8-b638283b28b5\n54 :  boring_mclean f9be30ea-f1c2-4668-b1c8-c40a7516c41a\n55 :  wonderful_raman de7a0f01-e9a3-45f4-aea5-b27a7cf294c3\n56 :  wonderful_keldysh 0e887b32-79be-4b75-859a-366002d2037c\n57 :  reverent_keldysh e7e5900c-a093-49a9-af30-81c7a17bfd6c\n58 :  laughing_poincare 5a8bd730-7c41-46c1-a4f9-3902bae099cf\n59 :  zealous_bohr eb783f67-c014-4956-a408-f1983ecca25f\n60 :  wizardly_kalam b6b32d94-956f-440a-af4f-4f8e059d07df\n61 :  zealous_swartz 60c9c1d8-c56b-4e43-9df0-e0c184cc98f5\n62 :  pensive_heisenberg 6be696d7-135e-4fd6-abbb-128504b005a3\n63 :  romantic_brattain 9e3be0d3-1805-402e-bc63-5ee58b6855ea\n64 :  hardcore_mendeleev 58d0ec11-6f36-495e-8e3b-d4adfb559689\n65 :  optimistic_lovelace 6d2633aa-f829-41ff-bbe4-a71370d30613\n66 :  loving_heyrovsky efc3a1f5-3d30-495a-b064-00a52592cc77\n67 :  silly_fermi 1740af9d-8079-4467-85a8-bd1887e25fdd\n68 :  friendly_bardeen 3c2de8b0-c265-4f01-ad53-d0ae15ffd3e9\n69 :  gifted_allen 8b0e56ef-0314-4d67-9c44-77fce5ac4d44\n70 :  quizzical_lalande b2782afa-1e11-4db6-8bbf-38b529abffcd\n71 :  hardcore_booth 55bcfd82-bc34-49fd-b335-3c26246f58be\n72 :  youthful_ride 72344c0a-a8df-4cc2-92f3-d12e8d317ff1\n73 :  nervous_lalande 2788056d-435d-4d05-9972-dce9e8b746cd\n74 :  wonderful_golick 4db0220b-8fd7-49db-a2dd-061cbb1656ce\n75 :  nervous_jennings 3e674161-45e0-4447-9b06-f7cca15873c0\n76 :  gallant_lewin 239967cd-36fb-4834-a975-857c537cb614\n77 :  quirky_borg 18fff9e9-2f89-4dec-b42f-17ea360e5b42\n78 :  sharp_goodall b2320780-3fe4-4b84-99d3-ab3c06998e93\n79 :  nifty_cori d4504fef-afde-49ce-852d-9a96cdbf3775\n80 :  trusting_noether d1273de8-e14a-4f15-9ab0-aff4c9a1a0a4\n81 :  infallible_archimedes 7596f681-966a-429c-af88-0291ee808795\n82 :  sleepy_minsky 21bee50f-5753-450c-b7fe-9e9ffa031d9b\n83 :  dreamy_turing 6f68c28a-17f7-4701-91f8-39ddb220e5c9\n84 :  hungry_swartz 842c857d-1b2e-4afc-8520-8138a02903c1\n85 :  optimistic_galileo 139e0b3c-918a-42ad-a86c-784f43169255\n86 :  confident_elion 428fc2bf-c20d-47b0-9d6a-bc2c9fdf5cac\n87 :  keen_zhukovsky 43253635-8e49-4963-ae52-4b85a1977d16\n88 :  distracted_goldberg 9590ff37-fb72-4efa-918c-8a3cf1a862f0\n89 :  pensive_mclean 3e5ce1b4-b116-49a0-ba2f-edf559f30e43\n90 :  reverent_lichterman 6383037e-2524-41ff-b5c3-e603ba7759cb\n91 :  vigilant_aryabhata 146228b5-a1b8-48a3-ad3a-7fe3678e5515\n92 :  thirsty_chaplygin a5786876-519f-4789-9529-70dc21f91d77\n93 :  focused_sinoussi daa6eb8e-7086-4225-a191-96bc37c85da8\n94 :  eager_babbage a38d0322-3f91-40a5-83c3-31bdaea6087e\n95 :  gallant_minsky 955202a3-62e7-453c-90df-1130c12be8c4\n96 :  reverent_shtern d64d9268-167a-492b-9012-c77857cdceb5\n97 :  pedantic_darwin 9bc98098-925d-4522-8c9d-a84004ec983e\n98 :  reverent_saha 8b8182f0-c287-49b6-9e0f-2e4a46024959\n99 :  affectionate_mcnulty 00bb5507-c369-4692-a599-677d87a63738\n"
    }
   ],
   "source": [
    "\n",
    "import agent as ag\n",
    "agent_count = 100\n",
    "agents = []\n",
    "for i in range(agent_count):\n",
    "    x = ag.Agent()\n",
    "    print(i, \": \", x.name, x.uid)\n",
    "    agents.append(x)"
   ]
  },
  {
   "cell_type": "code",
   "execution_count": 6,
   "metadata": {},
   "outputs": [],
   "source": [
    "for a in agents:\n",
    "    a.set_prop('pregnant', False)\n"
   ]
  },
  {
   "cell_type": "code",
   "execution_count": 8,
   "metadata": {},
   "outputs": [
    {
     "name": "stdout",
     "output_type": "stream",
     "text": "0 24\n1 22\n2 16\n3 13\n4 13\n5 12\n6 7\n7 7\n8 7\n9 7\n10 7\n11 6\n12 6\n13 5\n14 5\n15 5\n16 5\n17 4\n18 3\n19 2\n20 2\n21 2\n22 2\n23 2\n24 2\n25 2\n26 2\n27 2\n28 2\n29 2\n30 1\n31 1\n32 0\n33 0\n34 0\n35 0\n36 0\n37 0\n38 0\n39 0\n40 0\n41 0\n42 0\n43 0\n44 0\n45 0\n46 0\n47 0\n"
    }
   ],
   "source": [
    "inc = 0 \n",
    "\n",
    "while inc < 48:\n",
    "    for a in agents:\n",
    "        if a.props['pregnant'] == False:\n",
    "            a.recheck_prop('pregnant')\n",
    "    \n",
    "    not_preg = [agents[i].name for i in range(len(agents)) if agents[i].props['pregnant'] == False ]\n",
    "    print(inc, len(not_preg))\n",
    "    inc += 1\n"
   ]
  },
  {
   "cell_type": "code",
   "execution_count": 16,
   "metadata": {},
   "outputs": [
    {
     "data": {
      "text/plain": "['elegant_swanson', 'tender_banach', 'flamboyant_fermi', 'eloquent_albattani']"
     },
     "execution_count": 16,
     "metadata": {},
     "output_type": "execute_result"
    }
   ],
   "source": [
    "[agents[i].name for i in range(len(agents)) if agents[i].props['pregnant'] == False ]  "
   ]
  },
  {
   "cell_type": "code",
   "execution_count": 5,
   "metadata": {},
   "outputs": [
    {
     "ename": "AttributeError",
     "evalue": "module 'agent' has no attribute 'rollForValue'",
     "output_type": "error",
     "traceback": [
      "\u001b[0;31m---------------------------------------------------------------------------\u001b[0m",
      "\u001b[0;31mAttributeError\u001b[0m                            Traceback (most recent call last)",
      "\u001b[0;32m<ipython-input-5-3f76c2116231>\u001b[0m in \u001b[0;36m<module>\u001b[0;34m\u001b[0m\n\u001b[1;32m      1\u001b[0m \u001b[0;32mfor\u001b[0m \u001b[0mi\u001b[0m \u001b[0;32min\u001b[0m \u001b[0mrange\u001b[0m\u001b[0;34m(\u001b[0m\u001b[0;36m100\u001b[0m\u001b[0;34m)\u001b[0m\u001b[0;34m:\u001b[0m\u001b[0;34m\u001b[0m\u001b[0;34m\u001b[0m\u001b[0m\n\u001b[0;32m----> 2\u001b[0;31m     \u001b[0mroll\u001b[0m \u001b[0;34m=\u001b[0m \u001b[0mag\u001b[0m\u001b[0;34m.\u001b[0m\u001b[0mrollForValue\u001b[0m\u001b[0;34m(\u001b[0m\u001b[0;34m'pregnant'\u001b[0m\u001b[0;34m)\u001b[0m\u001b[0;34m\u001b[0m\u001b[0;34m\u001b[0m\u001b[0m\n\u001b[0m\u001b[1;32m      3\u001b[0m     \u001b[0;32mif\u001b[0m \u001b[0mroll\u001b[0m \u001b[0;34m==\u001b[0m \u001b[0;32mTrue\u001b[0m\u001b[0;34m:\u001b[0m\u001b[0;34m\u001b[0m\u001b[0;34m\u001b[0m\u001b[0m\n\u001b[1;32m      4\u001b[0m         \u001b[0mprint\u001b[0m\u001b[0;34m(\u001b[0m\u001b[0mi\u001b[0m\u001b[0;34m,\u001b[0m \u001b[0mroll\u001b[0m\u001b[0;34m)\u001b[0m\u001b[0;34m\u001b[0m\u001b[0;34m\u001b[0m\u001b[0m\n",
      "\u001b[0;31mAttributeError\u001b[0m: module 'agent' has no attribute 'rollForValue'"
     ]
    }
   ],
   "source": [
    "for i in range(100):\n",
    "    roll = ag.rollForValue('pregnant')\n",
    "    if roll == True:\n",
    "        print(i, roll)"
   ]
  },
  {
   "cell_type": "code",
   "execution_count": 19,
   "metadata": {},
   "outputs": [
    {
     "name": "stdout",
     "output_type": "stream",
     "text": "0 :  condescending_allen a3b736c5-4d58-4e54-ba56-b751faa0f98c\n1 :  epic_jackson df4ac2a8-392c-40dd-adf6-6adda93d4f37\n2 :  jovial_lamarr 6f03cbfb-252a-48e8-8688-15aded8faa9e\n3 :  dreamy_wing 3bdb04b5-a242-4c26-b82c-7fe7d9294191\n4 :  xenodochial_curie c5b6ce7e-a317-40f5-b121-53b37313386d\n5 :  pedantic_perlman 9b038670-07e5-4f16-a0f6-b6bc45e33d48\n6 :  angry_raman d94e4d7e-1e13-406f-88a0-d28647adbd1e\n7 :  practical_engelbart 167cc071-df43-4bab-b8b4-8cc24b899993\n8 :  jolly_austin b335a718-3c73-44a1-a652-ad6a475b65e7\n9 :  serene_perlman eb685f44-49d6-47e6-ada1-d68d4578bc42\n10 :  nervous_kapitsa 00653edf-ca7d-4c8d-837d-843a7e5f62a6\n11 :  blissful_wescoff 166050ce-2c59-48d1-9be3-9d941c4529c5\n12 :  silly_wing 3d3d8825-0caf-412d-bfee-e573aa907b2c\n13 :  naughty_beaver 5dc8fe76-5c17-4913-a3a5-33e2de07244e\n14 :  sleepy_sammet 49e8917a-ce88-4fc3-8eee-b684e4455596\n15 :  thirsty_spence b2de275d-bf65-4368-9039-bbbedcaf89df\n16 :  elastic_albattani 0314bfa3-617a-4007-81c1-593432dbbaf6\n17 :  confident_curran 38b1f272-3dff-4d43-8abe-cb45fa119a22\n18 :  distracted_gates 7016c891-c325-4322-b5e8-2dc8e7d3d090\n19 :  pedantic_wright f0e06f63-e688-48c7-9760-707b577ab351\n20 :  heuristic_allen b6e2c4bb-e697-4f82-896e-5f012a5b76c6\n21 :  practical_ramanujan e6bfd9d5-5c17-4ff1-981c-202119aad405\n22 :  dreamy_fermi 9978a426-e278-4db6-956c-f8f7d527b424\n23 :  infallible_sinoussi 41fa0e33-12e8-4498-b6c1-1e864182fb94\n24 :  unruffled_lamarr 23c1d059-8d9d-4f85-94f7-9794f1bb1bc8\n25 :  cranky_torvalds 71eaf572-65f2-4445-849f-c1cc883ec3b5\n26 :  inspiring_payne 910bb79c-b152-48a5-911a-165b8ad6205c\n27 :  relaxed_torvalds b0b46ae7-080e-4854-8d4f-4225d888584f\n28 :  zen_elion 56c63c4e-d2b2-48fd-b542-71929374c0fc\n29 :  nifty_lamport cc7404bc-be8d-4795-b1ed-897ca6ee14cd\n30 :  naughty_keller ca3915f3-76de-4639-8ffe-dbc5c7482b01\n31 :  jolly_stallman 61e54f74-5782-4fbd-9a0b-55c66868f1a9\n32 :  epic_leavitt f6dcfad7-c946-4781-8a12-884b084ee642\n33 :  keen_austin 2a6ea217-9fee-471e-bd7e-ac8154583389\n34 :  thirsty_kepler b7444047-32d9-4f79-b20a-c1b9cd413ca2\n35 :  peaceful_easley a3fd2281-7f3b-4e06-8e89-aed73a346f63\n36 :  sharp_hugle 08019a9c-3a47-4cb4-a7c8-444d06a4fff4\n37 :  adoring_haibt 7565d553-8fb1-43cc-baed-9bd3a13a11c6\n38 :  keen_brattain 64caa558-8ace-4cf3-86b2-19991e9bdeb8\n39 :  determined_swartz f55fe59e-13e4-46e2-b471-580dd38bce65\n40 :  dazzling_knuth 54bccad6-5a98-4d81-89c7-0a569599dfac\n41 :  suspicious_rosalind cbf066ce-a665-4c9d-996c-6edfbf90045a\n42 :  lucid_torvalds d0de42f1-0aaf-43cf-b47d-0e9cd95fa929\n43 :  sad_jackson c8c4f38d-ba17-4e46-92c4-584bca2e5d67\n44 :  elegant_galileo 8b75b30b-8125-40bb-9d64-593aa530a236\n45 :  epic_wescoff 4a9d57c4-b5f6-4aa9-a874-307913b581be\n46 :  gracious_bose c8cef801-f0d6-4546-a5d6-ae0151dcfb33\n47 :  eloquent_aryabhata 393182ce-2b23-4a3e-a60d-84269dd97a2b\n48 :  hopeful_hypatia cf018a17-9d9d-4296-864d-d4e9cb4dc7f3\n49 :  peaceful_jennings 86f619f5-2b30-43d5-b494-4872ebba093a\n50 :  practical_keller b97becf8-8ede-43f2-82a5-c1854f972fd0\n51 :  fervent_rosalind e676ca53-119b-4273-9ce3-a98deeeb8258\n52 :  reverent_knuth 65fe8980-e572-4d61-a7b9-0a0769cf19e1\n53 :  thirsty_kilby 2b4d26e5-5794-4a0d-a4f0-ffeb22c6751b\n54 :  happy_mccarthy c3c41f0e-1536-4b1f-ac35-8b5646c0c420\n55 :  xenodochial_mcclintock e9e9f566-46e2-4219-b57f-591dd1c50590\n56 :  xenodochial_shtern 319a6da7-17e6-4aec-88c4-93ebf4505936\n57 :  vigilant_fermi 09c43d3c-ed8b-4d10-9fc8-6d3fd6e091e1\n58 :  jolly_elbakyan 800e64ff-b9fe-4f51-b33d-c287217cf239\n59 :  wizardly_torvalds 43acd593-e553-40f7-900e-2b0005ea5461\n60 :  musing_edison 5ad43972-f57f-4876-9872-bfdf8c45d766\n61 :  lucid_elion f0b183cd-4f22-49c9-9363-0e3d83c451d0\n62 :  unruffled_shockley a9e0ebe5-6c66-4738-a791-73b2c8c2b0f1\n63 :  eager_mccarthy 8f8bb564-7203-42e7-b88a-d4f41396302a\n64 :  loving_mcclintock 9e067822-03dc-442c-9c94-2cd7946465cb\n65 :  tender_bardeen 6e4248c6-b08c-452c-8c7d-10a5a0c19244\n66 :  dazzling_pare a53b3aa4-859c-490e-a110-29ef40b05065\n67 :  mystifying_nobel 74bb6503-1141-49bf-affa-f8a172822f9e\n68 :  wonderful_hoover 1006c7ec-2d72-4925-9c0a-4720f72e468b\n69 :  wizardly_thompson d0208024-7bf9-4549-bc88-e2b9bf091319\n70 :  zealous_heyrovsky 61764b0c-56a9-4de6-babd-ba9864489468\n71 :  hungry_williams 5c9eb92c-5bd0-4e98-a34d-b3c50f63920d\n72 :  dreamy_minsky a5f5262e-6fa7-4e0a-98d0-5bc746ed2397\n73 :  confident_tereshkova e61526b4-8974-4bde-a5e2-edfec7b54319\n74 :  sharp_thompson 8181ed31-525f-438b-8512-148482f73ca3\n75 :  goofy_neumann baf338cc-4ca2-4f4b-ae31-4cfab287397c\n76 :  loving_mahavira 3b8e5d59-30e2-4427-b4ae-249e74813e5f\n77 :  affectionate_visvesvaraya 5b491278-0f6c-4530-8d01-2623a69e0bcf\n78 :  stupefied_booth f51717fe-44cb-4722-8407-54eb5910a841\n79 :  reverent_leavitt 80693ac4-0f70-4931-b967-aaaf1c17ab4b\n80 :  agitated_perlman 8942ced3-9c1d-41fe-860e-9097427efe8a\n81 :  nifty_einstein 9f438da9-9ec5-432e-953e-30c05eff1a66\n82 :  stupefied_elbakyan 6f167081-82f7-4255-bdd6-858e76ce8497\n83 :  adoring_wing 169328e0-b0ed-4bf9-9887-110464dcdbde\n84 :  unruffled_shaw f22b5df6-0920-4d85-aeee-078147a0296b\n85 :  gifted_neumann 09474be6-e006-4879-8f43-3ebec69da093\n86 :  practical_leakey 89afc569-6bf5-4100-8a0f-d59fb1c83d23\n87 :  gallant_nightingale f8ae923e-5d40-44d1-8e67-2958d7e66076\n88 :  nervous_engelbart ea8d988d-1658-4afc-bad1-085ae8d6d9e8\n89 :  nifty_kalam c0c0c414-65bd-4c81-b555-bf5cd5d87e63\n90 :  vibrant_hopper 2bd1a66d-6a21-4904-b517-31dbdf9f3338\n91 :  sharp_wing 3046a331-7c1d-42bd-9ea3-bec7d5346484\n92 :  infallible_kowalevski b40dbe32-ed60-4997-a346-388cada4ca13\n93 :  loving_mclean 8e706c06-f713-45bc-a328-de19808f964e\n94 :  dazzling_stonebraker 6b5660df-936c-464a-8b0b-224f4043b51e\n95 :  mystifying_pare 9648564a-e03b-44b5-8de1-a51ba15637a4\n96 :  nifty_nobel 8bd6a783-c340-42b7-b6ea-5eb50caa82b2\n97 :  dazzling_dijkstra a8b76181-95a2-4f8e-a657-eebf66f2310b\n98 :  distracted_darwin de5ffdee-e867-454d-9c1d-1f32aaeefa35\n99 :  wizardly_visvesvaraya adfb0092-9cbe-48cf-95dc-3cfce65fb882\n0 17\n1 27\n2 35\n3 46\n4 53\n5 59\n6 64\n7 70\n8 71\n9 75\n10 77\n11 81\n12 84\n13 86\n14 87\n15 91\n16 92\n17 94\n18 95\n19 95\n20 95\n21 96\n22 96\n23 98\n24 99\n25 99\n26 99\n27 99\n28 99\n29 99\n30 99\n31 99\n32 99\n33 99\n34 99\n35 99\n36 99\n37 99\n38 99\n39 99\n40 99\n41 99\n42 99\n43 100\n"
    }
   ],
   "source": [
    "import population as pop\n",
    "\n",
    "agents = pop.init_population(100, True)\n",
    "for a in agents:\n",
    "    a.set_prop('pregnant', False)\n",
    "\n",
    "inc = 0 \n",
    "while len([1 for a in agents if a.props['pregnant'] == False ]):\n",
    "    for a in agents:\n",
    "        if a.props['pregnant'] == False:\n",
    "            a.recheck_prop('pregnant')\n",
    "    \n",
    "    preg = [a.name for a in agents if a.props['pregnant'] == True ]\n",
    "    print(inc, len(preg))\n",
    "    inc += 1\n"
   ]
  },
  {
   "cell_type": "code",
   "execution_count": 13,
   "metadata": {},
   "outputs": [
    {
     "data": {
      "text/plain": "82"
     },
     "execution_count": 13,
     "metadata": {},
     "output_type": "execute_result"
    }
   ],
   "source": [
    "len([agents for a in agents if a.props['pregnant'] == True ])"
   ]
  },
  {
   "cell_type": "code",
   "execution_count": 17,
   "metadata": {},
   "outputs": [
    {
     "data": {
      "text/plain": "([0, 1, 2, 3, 4, 5, 6, 7, 8, 9], [6, 7, 8, 9])"
     },
     "execution_count": 17,
     "metadata": {},
     "output_type": "execute_result"
    }
   ],
   "source": [
    "xxx = list(range(10))\n",
    "b = [x for x in xxx if x > 5]\n",
    "xxx, b"
   ]
  },
  {
   "cell_type": "code",
   "execution_count": 18,
   "metadata": {},
   "outputs": [
    {
     "data": {
      "text/plain": "[6, 7, 8, 9]"
     },
     "execution_count": 18,
     "metadata": {},
     "output_type": "execute_result"
    }
   ],
   "source": [
    "xxx.append(11)\n",
    "xxx\n",
    "b"
   ]
  },
  {
   "cell_type": "code",
   "execution_count": 3,
   "metadata": {},
   "outputs": [
    {
     "data": {
      "text/plain": "{'sex': (1, ['M', 'F']), 'pregnant': ([0.15, 0.85], [True, False])}"
     },
     "execution_count": 3,
     "metadata": {},
     "output_type": "execute_result"
    }
   ],
   "source": [
    "ag.distributions"
   ]
  },
  {
   "cell_type": "code",
   "execution_count": 1,
   "metadata": {},
   "outputs": [],
   "source": [
    "import yaml"
   ]
  },
  {
   "cell_type": "code",
   "execution_count": 4,
   "metadata": {},
   "outputs": [],
   "source": [
    "with open('./distributions.yml', 'w') as file:\n",
    "    documents = yaml.dump(ag.distributions, file)"
   ]
  },
  {
   "cell_type": "code",
   "execution_count": 1,
   "metadata": {},
   "outputs": [],
   "source": [
    "import agent\n",
    "import population\n",
    ""
   ]
  },
  {
   "cell_type": "code",
   "execution_count": 4,
   "metadata": {},
   "outputs": [
    {
     "data": {
      "text/plain": "{'sex': [1, ['M', 'F']], 'pregnant': [[0.15, 0.85], [True, False]]}"
     },
     "execution_count": 4,
     "metadata": {},
     "output_type": "execute_result"
    }
   ],
   "source": [
    "agent.distributions"
   ]
  },
  {
   "cell_type": "code",
   "execution_count": 6,
   "metadata": {},
   "outputs": [],
   "source": [
    "x = []"
   ]
  },
  {
   "cell_type": "code",
   "execution_count": 12,
   "metadata": {},
   "outputs": [
    {
     "name": "stdout",
     "output_type": "stream",
     "text": "Excepcion!\n"
    }
   ],
   "source": [
    "try: \n",
    "    a\n",
    "except: \n",
    "    print(\"Excepcion!\")\n",
    "else:\n",
    "    print(x)"
   ]
  },
  {
   "cell_type": "code",
   "execution_count": null,
   "metadata": {},
   "outputs": [],
   "source": []
  }
 ],
 "metadata": {
  "kernelspec": {
   "display_name": "Python 3.8.1 64-bit ('venv': venv)",
   "language": "python",
   "name": "python38164bitvenvvenvd36d46f2fccc45eea5e2074ed92aa04d"
  },
  "language_info": {
   "codemirror_mode": {
    "name": "ipython",
    "version": 3
   },
   "file_extension": ".py",
   "mimetype": "text/x-python",
   "name": "python",
   "nbconvert_exporter": "python",
   "pygments_lexer": "ipython3",
   "version": "3.8.1-final"
  }
 },
 "nbformat": 4,
 "nbformat_minor": 4
}